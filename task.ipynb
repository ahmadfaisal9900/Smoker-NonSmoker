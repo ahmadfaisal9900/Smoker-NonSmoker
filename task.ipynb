{
 "cells": [
  {
   "cell_type": "markdown",
   "metadata": {
    "id": "ZOV_OeJsFfpm"
   },
   "source": [
    "**Programming**"
   ]
  },
  {
   "cell_type": "code",
   "execution_count": 1,
   "metadata": {},
   "outputs": [],
   "source": [
    "import matplotlib.pyplot as plt                 # Importing modules that are needed\n",
    "import numpy as np\n",
    "import pandas as pd\n",
    "from sklearn import metrics\n",
    "from sklearn import preprocessing\n",
    "from sklearn.linear_model import LogisticRegression\n",
    "from sklearn.neighbors import KNeighborsClassifier\n",
    "from sklearn.model_selection import train_test_split\n",
    "\n",
    "from sklearn.metrics import classification_report\n",
    "from sklearn.svm import SVC\n",
    "from sklearn.ensemble import ExtraTreesClassifier\n",
    "from sklearn.ensemble import RandomForestClassifier\n",
    "from sklearn.ensemble import GradientBoostingClassifier\n",
    "from sklearn.ensemble import VotingClassifier\n",
    "from sklearn.model_selection import GridSearchCV\n",
    "from sklearn.model_selection import KFold, cross_val_score\n",
    "import torch.nn as nn"
   ]
  },
  {
   "cell_type": "code",
   "execution_count": 2,
   "metadata": {
    "colab": {
     "base_uri": "https://localhost:8080/",
     "height": 443
    },
    "id": "uV4whjPQoBDb",
    "outputId": "543039ba-71d0-40ed-a415-590513df83cd"
   },
   "outputs": [
    {
     "data": {
      "text/html": [
       "<div>\n",
       "<style scoped>\n",
       "    .dataframe tbody tr th:only-of-type {\n",
       "        vertical-align: middle;\n",
       "    }\n",
       "\n",
       "    .dataframe tbody tr th {\n",
       "        vertical-align: top;\n",
       "    }\n",
       "\n",
       "    .dataframe thead th {\n",
       "        text-align: right;\n",
       "    }\n",
       "</style>\n",
       "<table border=\"1\" class=\"dataframe\">\n",
       "  <thead>\n",
       "    <tr style=\"text-align: right;\">\n",
       "      <th></th>\n",
       "      <th>PlateID</th>\n",
       "      <th>Grade</th>\n",
       "      <th>Coating</th>\n",
       "      <th>AnnealTime</th>\n",
       "      <th>CoolingTime</th>\n",
       "      <th>TemperingTime</th>\n",
       "      <th>AnnealType</th>\n",
       "      <th>DuctilityImprove</th>\n",
       "    </tr>\n",
       "  </thead>\n",
       "  <tbody>\n",
       "    <tr>\n",
       "      <th>0</th>\n",
       "      <td>1</td>\n",
       "      <td>3</td>\n",
       "      <td>Yes</td>\n",
       "      <td>22.0</td>\n",
       "      <td>1</td>\n",
       "      <td>0</td>\n",
       "      <td>Spherical</td>\n",
       "      <td>0</td>\n",
       "    </tr>\n",
       "    <tr>\n",
       "      <th>1</th>\n",
       "      <td>2</td>\n",
       "      <td>1</td>\n",
       "      <td>No</td>\n",
       "      <td>38.0</td>\n",
       "      <td>1</td>\n",
       "      <td>0</td>\n",
       "      <td>Complete</td>\n",
       "      <td>1</td>\n",
       "    </tr>\n",
       "    <tr>\n",
       "      <th>2</th>\n",
       "      <td>3</td>\n",
       "      <td>3</td>\n",
       "      <td>No</td>\n",
       "      <td>26.0</td>\n",
       "      <td>0</td>\n",
       "      <td>0</td>\n",
       "      <td>Spherical</td>\n",
       "      <td>1</td>\n",
       "    </tr>\n",
       "    <tr>\n",
       "      <th>3</th>\n",
       "      <td>4</td>\n",
       "      <td>1</td>\n",
       "      <td>No</td>\n",
       "      <td>35.0</td>\n",
       "      <td>1</td>\n",
       "      <td>0</td>\n",
       "      <td>Spherical</td>\n",
       "      <td>1</td>\n",
       "    </tr>\n",
       "    <tr>\n",
       "      <th>4</th>\n",
       "      <td>5</td>\n",
       "      <td>3</td>\n",
       "      <td>Yes</td>\n",
       "      <td>35.0</td>\n",
       "      <td>0</td>\n",
       "      <td>0</td>\n",
       "      <td>Spherical</td>\n",
       "      <td>0</td>\n",
       "    </tr>\n",
       "    <tr>\n",
       "      <th>...</th>\n",
       "      <td>...</td>\n",
       "      <td>...</td>\n",
       "      <td>...</td>\n",
       "      <td>...</td>\n",
       "      <td>...</td>\n",
       "      <td>...</td>\n",
       "      <td>...</td>\n",
       "      <td>...</td>\n",
       "    </tr>\n",
       "    <tr>\n",
       "      <th>1304</th>\n",
       "      <td>1305</td>\n",
       "      <td>3</td>\n",
       "      <td>Yes</td>\n",
       "      <td>NaN</td>\n",
       "      <td>0</td>\n",
       "      <td>0</td>\n",
       "      <td>Spherical</td>\n",
       "      <td>0</td>\n",
       "    </tr>\n",
       "    <tr>\n",
       "      <th>1305</th>\n",
       "      <td>1306</td>\n",
       "      <td>1</td>\n",
       "      <td>No</td>\n",
       "      <td>39.0</td>\n",
       "      <td>0</td>\n",
       "      <td>0</td>\n",
       "      <td>Complete</td>\n",
       "      <td>1</td>\n",
       "    </tr>\n",
       "    <tr>\n",
       "      <th>1306</th>\n",
       "      <td>1307</td>\n",
       "      <td>3</td>\n",
       "      <td>Yes</td>\n",
       "      <td>38.5</td>\n",
       "      <td>0</td>\n",
       "      <td>0</td>\n",
       "      <td>Spherical</td>\n",
       "      <td>0</td>\n",
       "    </tr>\n",
       "    <tr>\n",
       "      <th>1307</th>\n",
       "      <td>1308</td>\n",
       "      <td>3</td>\n",
       "      <td>Yes</td>\n",
       "      <td>NaN</td>\n",
       "      <td>0</td>\n",
       "      <td>0</td>\n",
       "      <td>Spherical</td>\n",
       "      <td>0</td>\n",
       "    </tr>\n",
       "    <tr>\n",
       "      <th>1308</th>\n",
       "      <td>1309</td>\n",
       "      <td>3</td>\n",
       "      <td>Yes</td>\n",
       "      <td>NaN</td>\n",
       "      <td>1</td>\n",
       "      <td>1</td>\n",
       "      <td>Complete</td>\n",
       "      <td>0</td>\n",
       "    </tr>\n",
       "  </tbody>\n",
       "</table>\n",
       "<p>1309 rows × 8 columns</p>\n",
       "</div>"
      ],
      "text/plain": [
       "      PlateID  Grade Coating  AnnealTime  CoolingTime  TemperingTime  \\\n",
       "0           1      3     Yes        22.0            1              0   \n",
       "1           2      1      No        38.0            1              0   \n",
       "2           3      3      No        26.0            0              0   \n",
       "3           4      1      No        35.0            1              0   \n",
       "4           5      3     Yes        35.0            0              0   \n",
       "...       ...    ...     ...         ...          ...            ...   \n",
       "1304     1305      3     Yes         NaN            0              0   \n",
       "1305     1306      1      No        39.0            0              0   \n",
       "1306     1307      3     Yes        38.5            0              0   \n",
       "1307     1308      3     Yes         NaN            0              0   \n",
       "1308     1309      3     Yes         NaN            1              1   \n",
       "\n",
       "     AnnealType  DuctilityImprove  \n",
       "0     Spherical                 0  \n",
       "1      Complete                 1  \n",
       "2     Spherical                 1  \n",
       "3     Spherical                 1  \n",
       "4     Spherical                 0  \n",
       "...         ...               ...  \n",
       "1304  Spherical                 0  \n",
       "1305   Complete                 1  \n",
       "1306  Spherical                 0  \n",
       "1307  Spherical                 0  \n",
       "1308   Complete                 0  \n",
       "\n",
       "[1309 rows x 8 columns]"
      ]
     },
     "execution_count": 2,
     "metadata": {},
     "output_type": "execute_result"
    }
   ],
   "source": [
    "\n",
    "df = pd.read_csv('DS__B.csv')\n",
    "df.head(1310)"
   ]
  },
  {
   "cell_type": "markdown",
   "metadata": {
    "id": "zhNX70lIVsMj"
   },
   "source": [
    "### **Determining/ identifying the missing/ null values**"
   ]
  },
  {
   "cell_type": "markdown",
   "metadata": {
    "id": "QtBKJxd2Fq3A"
   },
   "source": [
    "**Programming**"
   ]
  },
  {
   "cell_type": "code",
   "execution_count": 3,
   "metadata": {
    "colab": {
     "base_uri": "https://localhost:8080/"
    },
    "id": "KTwADSnXpXCq",
    "outputId": "fe8bcaad-9d37-47ae-9269-377f0be09a9e"
   },
   "outputs": [
    {
     "data": {
      "text/plain": [
       "PlateID               0\n",
       "Grade                 0\n",
       "Coating               0\n",
       "AnnealTime          263\n",
       "CoolingTime           0\n",
       "TemperingTime         0\n",
       "AnnealType            2\n",
       "DuctilityImprove      0\n",
       "dtype: int64"
      ]
     },
     "execution_count": 3,
     "metadata": {},
     "output_type": "execute_result"
    }
   ],
   "source": [
    "missing_values_count = df.isnull().sum()                # Get the number of missing data points per column\n",
    "missing_values_count[0:10]"
   ]
  },
  {
   "cell_type": "code",
   "execution_count": 4,
   "metadata": {
    "colab": {
     "base_uri": "https://localhost:8080/"
    },
    "id": "c7RElLo9ph7r",
    "outputId": "b60bc435-34f3-4168-b474-fd132547071a"
   },
   "outputs": [
    {
     "name": "stdout",
     "output_type": "stream",
     "text": [
      "2.530557677616501\n"
     ]
    }
   ],
   "source": [
    "total_cells = np.product(df.shape)                                # How many total missing values do we have?\n",
    "total_missing = missing_values_count.sum()\n",
    "percent_missing = (total_missing/total_cells) * 100               # Percentage of data that is missing\n",
    "print(percent_missing)"
   ]
  },
  {
   "cell_type": "markdown",
   "metadata": {
    "id": "NKkIUgMIV9gs"
   },
   "source": [
    "### **Showing the types there are in the dataset**"
   ]
  },
  {
   "cell_type": "code",
   "execution_count": 5,
   "metadata": {
    "colab": {
     "base_uri": "https://localhost:8080/"
    },
    "id": "tgV9n0kooQVj",
    "outputId": "a94690a9-89af-40c8-83db-a94a3037af01"
   },
   "outputs": [
    {
     "data": {
      "text/plain": [
       "PlateID               int64\n",
       "Grade                 int64\n",
       "Coating              object\n",
       "AnnealTime          float64\n",
       "CoolingTime           int64\n",
       "TemperingTime         int64\n",
       "AnnealType           object\n",
       "DuctilityImprove      int64\n",
       "dtype: object"
      ]
     },
     "execution_count": 5,
     "metadata": {},
     "output_type": "execute_result"
    }
   ],
   "source": [
    "df.dtypes                                                         # Shows the types are there in the dataset"
   ]
  },
  {
   "cell_type": "markdown",
   "metadata": {
    "id": "n-Hcpsgnxvi6"
   },
   "source": [
    "### **Data cleaning**"
   ]
  },
  {
   "cell_type": "markdown",
   "metadata": {
    "id": "HNqsbTyXWGAO"
   },
   "source": [
    "**Removing leading/ trailing whitespaces**"
   ]
  },
  {
   "cell_type": "code",
   "execution_count": 6,
   "metadata": {
    "id": "nsV2hjLFqJ3P"
   },
   "outputs": [],
   "source": [
    "df['AnnealType'] = df['AnnealType'].str.strip()                   # Remove leading/trailing whitespaces"
   ]
  },
  {
   "cell_type": "markdown",
   "metadata": {
    "id": "xlH-zoZMWP3Q"
   },
   "source": [
    "### **Replacing any rows with missing values to statistical mean values**"
   ]
  },
  {
   "cell_type": "code",
   "execution_count": 7,
   "metadata": {
    "colab": {
     "base_uri": "https://localhost:8080/"
    },
    "id": "z7oNsAxvqe3T",
    "outputId": "b110d016-72c0-4c9e-fa42-d253e55fdceb"
   },
   "outputs": [
    {
     "name": "stderr",
     "output_type": "stream",
     "text": [
      "C:\\Users\\Ahmad\\AppData\\Local\\Temp\\ipykernel_9160\\84892724.py:1: FutureWarning: The default value of numeric_only in DataFrame.mean is deprecated. In a future version, it will default to False. In addition, specifying 'numeric_only=None' is deprecated. Select only valid columns or specify the value of numeric_only to silence this warning.\n",
      "  df.fillna(df.mean(), inplace=True)                                # Replace any rows with missing values to statistical mean values\n"
     ]
    }
   ],
   "source": [
    "df.fillna(df.mean(), inplace=True)                                # Replace any rows with missing values to statistical mean values"
   ]
  },
  {
   "cell_type": "markdown",
   "metadata": {
    "id": "3mqHXsOkWXlQ"
   },
   "source": [
    "### **Checking if there is any missing data points left**"
   ]
  },
  {
   "cell_type": "code",
   "execution_count": 8,
   "metadata": {
    "colab": {
     "base_uri": "https://localhost:8080/"
    },
    "id": "82MBPpEKtPwj",
    "outputId": "e91f3841-fa23-45c4-8f8b-f2e9f70fa67f"
   },
   "outputs": [
    {
     "data": {
      "text/plain": [
       "PlateID             0\n",
       "Grade               0\n",
       "Coating             0\n",
       "AnnealTime          0\n",
       "CoolingTime         0\n",
       "TemperingTime       0\n",
       "AnnealType          2\n",
       "DuctilityImprove    0\n",
       "dtype: int64"
      ]
     },
     "execution_count": 8,
     "metadata": {},
     "output_type": "execute_result"
    }
   ],
   "source": [
    "missing_values_count = df.isnull().sum()                # Get the number of missing data points per column\n",
    "missing_values_count[0:10]"
   ]
  },
  {
   "cell_type": "markdown",
   "metadata": {
    "id": "F0SqCK1BWrKy"
   },
   "source": [
    "### **Checking/Retrieving the AnnealType values**"
   ]
  },
  {
   "cell_type": "code",
   "execution_count": 9,
   "metadata": {
    "colab": {
     "base_uri": "https://localhost:8080/"
    },
    "id": "X36XsuoAqqdg",
    "outputId": "1d2aa6ff-83d6-443e-cd44-c9bf8cfadf0a"
   },
   "outputs": [
    {
     "data": {
      "text/plain": [
       "0       Spherical\n",
       "1        Complete\n",
       "2       Spherical\n",
       "3       Spherical\n",
       "4       Spherical\n",
       "          ...    \n",
       "1304    Spherical\n",
       "1305     Complete\n",
       "1306    Spherical\n",
       "1307    Spherical\n",
       "1308     Complete\n",
       "Name: AnnealType, Length: 1309, dtype: object"
      ]
     },
     "execution_count": 9,
     "metadata": {},
     "output_type": "execute_result"
    }
   ],
   "source": [
    "df['AnnealType']"
   ]
  },
  {
   "cell_type": "markdown",
   "metadata": {
    "id": "yBzhkMPUWw7P"
   },
   "source": [
    "### **Conversion of AnnealTime, TemperingTime and CoolingTime to int values and into minutes**"
   ]
  },
  {
   "cell_type": "code",
   "execution_count": 10,
   "metadata": {
    "id": "oi9D1X3TqjsK"
   },
   "outputs": [],
   "source": [
    "df['AnnealTime'] = df['AnnealTime'].astype(int) / 60                   # Convert 'AnnealTime' column to integer data type and change its unit to minutes\n",
    "df['TemperingTime'] = df['TemperingTime'].astype(int) * 60             # Convert 'TemperingTime' column to integer data type and change its unit to minutes\n",
    "df['CoolingTime'] = df['CoolingTime'].astype(int) * 60                 # Convert 'CoolingTime' column to integer data type and change its unit to minutes"
   ]
  },
  {
   "cell_type": "markdown",
   "metadata": {
    "id": "XliOVOeLW3qM"
   },
   "source": [
    "### **Double checking if the values has change to integer type and to minutes**"
   ]
  },
  {
   "cell_type": "code",
   "execution_count": 11,
   "metadata": {
    "colab": {
     "base_uri": "https://localhost:8080/",
     "height": 257
    },
    "id": "4kNObA8m3Pe7",
    "outputId": "f42e7607-1d1b-4616-97b8-cf3eb437f6bb"
   },
   "outputs": [
    {
     "data": {
      "text/html": [
       "<div>\n",
       "<style scoped>\n",
       "    .dataframe tbody tr th:only-of-type {\n",
       "        vertical-align: middle;\n",
       "    }\n",
       "\n",
       "    .dataframe tbody tr th {\n",
       "        vertical-align: top;\n",
       "    }\n",
       "\n",
       "    .dataframe thead th {\n",
       "        text-align: right;\n",
       "    }\n",
       "</style>\n",
       "<table border=\"1\" class=\"dataframe\">\n",
       "  <thead>\n",
       "    <tr style=\"text-align: right;\">\n",
       "      <th></th>\n",
       "      <th>PlateID</th>\n",
       "      <th>Grade</th>\n",
       "      <th>Coating</th>\n",
       "      <th>AnnealTime</th>\n",
       "      <th>CoolingTime</th>\n",
       "      <th>TemperingTime</th>\n",
       "      <th>AnnealType</th>\n",
       "      <th>DuctilityImprove</th>\n",
       "    </tr>\n",
       "  </thead>\n",
       "  <tbody>\n",
       "    <tr>\n",
       "      <th>0</th>\n",
       "      <td>1</td>\n",
       "      <td>3</td>\n",
       "      <td>Yes</td>\n",
       "      <td>0.366667</td>\n",
       "      <td>60</td>\n",
       "      <td>0</td>\n",
       "      <td>Spherical</td>\n",
       "      <td>0</td>\n",
       "    </tr>\n",
       "    <tr>\n",
       "      <th>1</th>\n",
       "      <td>2</td>\n",
       "      <td>1</td>\n",
       "      <td>No</td>\n",
       "      <td>0.633333</td>\n",
       "      <td>60</td>\n",
       "      <td>0</td>\n",
       "      <td>Complete</td>\n",
       "      <td>1</td>\n",
       "    </tr>\n",
       "    <tr>\n",
       "      <th>2</th>\n",
       "      <td>3</td>\n",
       "      <td>3</td>\n",
       "      <td>No</td>\n",
       "      <td>0.433333</td>\n",
       "      <td>0</td>\n",
       "      <td>0</td>\n",
       "      <td>Spherical</td>\n",
       "      <td>1</td>\n",
       "    </tr>\n",
       "    <tr>\n",
       "      <th>3</th>\n",
       "      <td>4</td>\n",
       "      <td>1</td>\n",
       "      <td>No</td>\n",
       "      <td>0.583333</td>\n",
       "      <td>60</td>\n",
       "      <td>0</td>\n",
       "      <td>Spherical</td>\n",
       "      <td>1</td>\n",
       "    </tr>\n",
       "    <tr>\n",
       "      <th>4</th>\n",
       "      <td>5</td>\n",
       "      <td>3</td>\n",
       "      <td>Yes</td>\n",
       "      <td>0.583333</td>\n",
       "      <td>0</td>\n",
       "      <td>0</td>\n",
       "      <td>Spherical</td>\n",
       "      <td>0</td>\n",
       "    </tr>\n",
       "    <tr>\n",
       "      <th>5</th>\n",
       "      <td>6</td>\n",
       "      <td>3</td>\n",
       "      <td>Yes</td>\n",
       "      <td>0.483333</td>\n",
       "      <td>0</td>\n",
       "      <td>0</td>\n",
       "      <td>Isothermal</td>\n",
       "      <td>0</td>\n",
       "    </tr>\n",
       "  </tbody>\n",
       "</table>\n",
       "</div>"
      ],
      "text/plain": [
       "   PlateID  Grade Coating  AnnealTime  CoolingTime  TemperingTime  AnnealType  \\\n",
       "0        1      3     Yes    0.366667           60              0   Spherical   \n",
       "1        2      1      No    0.633333           60              0    Complete   \n",
       "2        3      3      No    0.433333            0              0   Spherical   \n",
       "3        4      1      No    0.583333           60              0   Spherical   \n",
       "4        5      3     Yes    0.583333            0              0   Spherical   \n",
       "5        6      3     Yes    0.483333            0              0  Isothermal   \n",
       "\n",
       "   DuctilityImprove  \n",
       "0                 0  \n",
       "1                 1  \n",
       "2                 1  \n",
       "3                 1  \n",
       "4                 0  \n",
       "5                 0  "
      ]
     },
     "execution_count": 11,
     "metadata": {},
     "output_type": "execute_result"
    }
   ],
   "source": [
    "df.head(6)"
   ]
  },
  {
   "cell_type": "code",
   "execution_count": 12,
   "metadata": {},
   "outputs": [],
   "source": [
    "def one_hot_encode(data):\n",
    "    # Use pd.get_dummies to one-hot encode the specified columns\n",
    "    encoded_data = pd.get_dummies(data, columns=['AnnealType', 'Coating'])\n",
    "\n",
    "    return encoded_data\n"
   ]
  },
  {
   "cell_type": "markdown",
   "metadata": {
    "id": "UVRbdNy1W_BM"
   },
   "source": [
    "### **Data cleaning, removing any missing data that are left**"
   ]
  },
  {
   "cell_type": "code",
   "execution_count": 13,
   "metadata": {
    "id": "lbv4-cPTJWXV"
   },
   "outputs": [],
   "source": [
    "df.dropna(inplace=True)"
   ]
  },
  {
   "cell_type": "markdown",
   "metadata": {
    "id": "nlgnH7IRXISw"
   },
   "source": [
    "### **Checking if there is any missing data points left**"
   ]
  },
  {
   "cell_type": "code",
   "execution_count": 14,
   "metadata": {
    "colab": {
     "base_uri": "https://localhost:8080/"
    },
    "id": "iQQWoUfUJjIn",
    "outputId": "b2a0ef90-5b80-430b-dd86-c07a8bf7906b"
   },
   "outputs": [
    {
     "data": {
      "text/plain": [
       "PlateID             0\n",
       "Grade               0\n",
       "Coating             0\n",
       "AnnealTime          0\n",
       "CoolingTime         0\n",
       "TemperingTime       0\n",
       "AnnealType          0\n",
       "DuctilityImprove    0\n",
       "dtype: int64"
      ]
     },
     "execution_count": 14,
     "metadata": {},
     "output_type": "execute_result"
    }
   ],
   "source": [
    "missing_values_count = df.isnull().sum()                # Get the number of missing data points per column\n",
    "missing_values_count[0:10]"
   ]
  },
  {
   "cell_type": "markdown",
   "metadata": {
    "id": "oPie65yS0CaO"
   },
   "source": [
    "### **Graph 1: Annealing type vs annealing time (Line chart)**"
   ]
  },
  {
   "cell_type": "markdown",
   "metadata": {
    "id": "r3YINIPPEpsz"
   },
   "source": [
    "**Flowchart**"
   ]
  },
  {
   "cell_type": "markdown",
   "metadata": {
    "id": "N80dQPakEnKs"
   },
   "source": [
    "**Programming**"
   ]
  },
  {
   "cell_type": "code",
   "execution_count": 15,
   "metadata": {
    "colab": {
     "base_uri": "https://localhost:8080/",
     "height": 333
    },
    "id": "ZOmRttE2ozM3",
    "outputId": "32101ecc-bca5-4823-cb6b-77c8b042d1d4"
   },
   "outputs": [
    {
     "data": {
      "image/png": "[encoded data removed]",
      "text/plain": [
       "<Figure size 300x300 with 1 Axes>"
      ]
     },
     "metadata": {},
     "output_type": "display_data"
    }
   ],
   "source": [
    "df_grouped = df.groupby('AnnealType')['AnnealTime'].mean()\n",
    "df_grouped.plot(kind='line', figsize=(3, 3))\n",
    "df_grouped.plot(kind='line')\n",
    "plt.xlabel('Annealing Type')\n",
    "plt.ylabel('Annealing Time')\n",
    "plt.title('Annealing Type vs Annealing Time')\n",
    "plt.show()"
   ]
  },
  {
   "cell_type": "markdown",
   "metadata": {
    "id": "zdDJRNhW0QN4"
   },
   "source": [
    "### **Graph 2 - Annealing type vs ductility improve (Line chart)**"
   ]
  },
  {
   "cell_type": "markdown",
   "metadata": {
    "id": "EFGLTnkIESJ5"
   },
   "source": [
    "**Programming**"
   ]
  },
  {
   "cell_type": "code",
   "execution_count": 16,
   "metadata": {
    "colab": {
     "base_uri": "https://localhost:8080/",
     "height": 333
    },
    "id": "6nYpMA6Do2b8",
    "outputId": "b8ad0a2d-f044-4b58-caf6-f8adc907c816"
   },
   "outputs": [
    {
     "data": {
      "image/png": "[encoded data removed]",
      "text/plain": [
       "<Figure size 300x300 with 1 Axes>"
      ]
     },
     "metadata": {},
     "output_type": "display_data"
    }
   ],
   "source": [
    "df_grouped_ductility = df.groupby('AnnealType')['DuctilityImprove'].mean()\n",
    "df_grouped_ductility.plot(kind='line', marker='o', figsize=(3, 3))\n",
    "df_grouped_ductility.plot(kind='line', marker='o')\n",
    "plt.xlabel('Annealing Type')\n",
    "plt.ylabel('Ductility Improve')\n",
    "plt.title('Annealing Type vs Ductility Improve')\n",
    "plt.show()"
   ]
  },
  {
   "cell_type": "markdown",
   "metadata": {
    "id": "kytHaawkURxx"
   },
   "source": [
    "### **Graph 3 - Tempering Time and Cooling Time vs Ductility Improve (Bar chart)**"
   ]
  },
  {
   "cell_type": "markdown",
   "metadata": {
    "id": "HHK2lzFFDkLp"
   },
   "source": [
    "**Programming**"
   ]
  },
  {
   "cell_type": "code",
   "execution_count": 17,
   "metadata": {
    "colab": {
     "base_uri": "https://localhost:8080/",
     "height": 423
    },
    "id": "anSRQvdFSa2H",
    "outputId": "48a99dbb-749d-4250-a197-d1c819199b4e"
   },
   "outputs": [
    {
     "data": {
      "image/png": "[encoded data removed]",
      "text/plain": [
       "<Figure size 400x400 with 1 Axes>"
      ]
     },
     "metadata": {},
     "output_type": "display_data"
    }
   ],
   "source": [
    "df_grouped_tempering_ductility = df.groupby('TemperingTime')['DuctilityImprove'].mean()\n",
    "df_grouped_tempering_ductility1 = df.groupby('CoolingTime')['DuctilityImprove'].mean()\n",
    "df_combined = pd.DataFrame({'TemperingTime': df_grouped_tempering_ductility, 'CoolingTime': df_grouped_tempering_ductility1})    # Combine the two variables into a DataFrame\n",
    "ax = df_combined.plot(kind='bar', width=0.35, figsize=(4, 4))                                                                    # Plot the DataFrame\n",
    "plt.xlabel('Time')                                                                                                               # Set labels and title\n",
    "plt.ylabel('Ductility Improve')\n",
    "plt.title('Time vs Ductility Improve')\n",
    "plt.show()                                                                                                                      # Show the plot"
   ]
  },
  {
   "cell_type": "markdown",
   "metadata": {
    "id": "r4DVvN5L501J"
   },
   "source": [
    "**Flowchart**"
   ]
  },
  {
   "cell_type": "markdown",
   "metadata": {
    "id": "S7WWZl8zDQ_f"
   },
   "source": [
    "**Programming**"
   ]
  },
  {
   "cell_type": "code",
   "execution_count": 18,
   "metadata": {
    "colab": {
     "base_uri": "https://localhost:8080/",
     "height": 341
    },
    "id": "lhv9si5W5DcX",
    "outputId": "3575fe8c-1990-46d4-c522-921888506259"
   },
   "outputs": [
    {
     "data": {
      "image/png": "[encoded data removed]",
      "text/plain": [
       "<Figure size 300x300 with 1 Axes>"
      ]
     },
     "metadata": {},
     "output_type": "display_data"
    }
   ],
   "source": [
    "df_grouped_tempering_ductility = df.groupby('Coating')['DuctilityImprove'].mean()\n",
    "df_grouped_tempering_ductility.plot(kind='bar')\n",
    "df_grouped_tempering_ductility.plot(kind='bar', figsize=(3, 3))\n",
    "plt.xlabel('Coating')\n",
    "plt.ylabel('DuctilityImprove')\n",
    "plt.title('Coating vs DuctilityImprove')\n",
    "plt.show()"
   ]
  },
  {
   "cell_type": "markdown",
   "metadata": {
    "id": "1WGF0VB_3AVf"
   },
   "source": [
    "# Now we shall apply various Machine Learning Techniques"
   ]
  },
  {
   "cell_type": "markdown",
   "metadata": {},
   "source": [
    "The code `encoded_df = one_hot_encode(df)` is calling a function called `one_hot_encode` and passing the DataFrame `df` as an argument. The function is expected to perform one-hot encoding on the DataFrame and return the encoded DataFrame.\n"
   ]
  },
  {
   "cell_type": "code",
   "execution_count": 19,
   "metadata": {},
   "outputs": [
    {
     "name": "stdout",
     "output_type": "stream",
     "text": [
      "      PlateID  Grade  AnnealTime  CoolingTime  TemperingTime  \\\n",
      "0           1      3    0.366667           60              0   \n",
      "1           2      1    0.633333           60              0   \n",
      "2           3      3    0.433333            0              0   \n",
      "3           4      1    0.583333           60              0   \n",
      "4           5      3    0.583333            0              0   \n",
      "...       ...    ...         ...          ...            ...   \n",
      "1304     1305      3    0.483333            0              0   \n",
      "1305     1306      1    0.650000            0              0   \n",
      "1306     1307      3    0.633333            0              0   \n",
      "1307     1308      3    0.483333            0              0   \n",
      "1308     1309      3    0.483333           60             60   \n",
      "\n",
      "      DuctilityImprove  AnnealType_Complete  AnnealType_Isothermal  \\\n",
      "0                    0                    0                      0   \n",
      "1                    1                    1                      0   \n",
      "2                    1                    0                      0   \n",
      "3                    1                    0                      0   \n",
      "4                    0                    0                      0   \n",
      "...                ...                  ...                    ...   \n",
      "1304                 0                    0                      0   \n",
      "1305                 1                    1                      0   \n",
      "1306                 0                    0                      0   \n",
      "1307                 0                    0                      0   \n",
      "1308                 0                    1                      0   \n",
      "\n",
      "      AnnealType_Spherical  Coating_No  Coating_Yes  \n",
      "0                        1           0            1  \n",
      "1                        0           1            0  \n",
      "2                        1           1            0  \n",
      "3                        1           1            0  \n",
      "4                        1           0            1  \n",
      "...                    ...         ...          ...  \n",
      "1304                     1           0            1  \n",
      "1305                     0           1            0  \n",
      "1306                     1           0            1  \n",
      "1307                     1           0            1  \n",
      "1308                     0           0            1  \n",
      "\n",
      "[1307 rows x 11 columns]\n"
     ]
    }
   ],
   "source": [
    "encoded_df = one_hot_encode(df)\n",
    "\n",
    "print(encoded_df)"
   ]
  },
  {
   "cell_type": "code",
   "execution_count": 20,
   "metadata": {},
   "outputs": [],
   "source": [
    "x = encoded_df.iloc[:]\n",
    "x = x.drop(\"DuctilityImprove\", axis=1)\n",
    "x = x.drop(\"PlateID\", axis=1)\n",
    "y = encoded_df[\"DuctilityImprove\"] \n",
    "X_train, X_test, y_train, y_test = train_test_split(x, y, test_size=0.2, random_state=123)\n",
    "X_train2, X_test2, y_train2, y_test2 = train_test_split(x, y, test_size=0.5, random_state=123)"
   ]
  },
  {
   "cell_type": "markdown",
   "metadata": {},
   "source": [
    "# We will be performing the following Machine Learning Techniques on two different data splits. The first data split will be `20/80` and the second data split will be `50/50`."
   ]
  },
  {
   "cell_type": "markdown",
   "metadata": {},
   "source": [
    "# Random Forest Classifier"
   ]
  },
  {
   "cell_type": "markdown",
   "metadata": {},
   "source": [
    "The code is training a random forest classifier using the `RandomForestClassifier` class from the scikit-learn library. It is using 100 decision trees (`n_estimators = 100`) to build the random forest."
   ]
  },
  {
   "cell_type": "code",
   "execution_count": 21,
   "metadata": {},
   "outputs": [
    {
     "name": "stdout",
     "output_type": "stream",
     "text": [
      "              precision    recall  f1-score   support\n",
      "\n",
      "           0       0.86      0.87      0.86       164\n",
      "           1       0.77      0.76      0.76        98\n",
      "\n",
      "    accuracy                           0.82       262\n",
      "   macro avg       0.81      0.81      0.81       262\n",
      "weighted avg       0.82      0.82      0.82       262\n",
      "\n"
     ]
    }
   ],
   "source": [
    "#For a 80-20 Split\n",
    "classifier = RandomForestClassifier(n_estimators = 100)\n",
    "classifier.fit(X_train, y_train)\n",
    "y_pred = classifier.predict(X_test)\n",
    "report = classification_report(y_test, y_pred)\n",
    "print(report)"
   ]
  },
  {
   "cell_type": "markdown",
   "metadata": {},
   "source": [
    "The code is training a random forest classifier using the `RandomForestClassifier` class from the scikit-learn library. It is using 100 decision trees (`n_estimators = 100`) to build the random forest."
   ]
  },
  {
   "cell_type": "code",
   "execution_count": 22,
   "metadata": {},
   "outputs": [
    {
     "name": "stdout",
     "output_type": "stream",
     "text": [
      "              precision    recall  f1-score   support\n",
      "\n",
      "           0       0.84      0.88      0.86       406\n",
      "           1       0.79      0.73      0.76       248\n",
      "\n",
      "    accuracy                           0.83       654\n",
      "   macro avg       0.82      0.81      0.81       654\n",
      "weighted avg       0.82      0.83      0.82       654\n",
      "\n"
     ]
    }
   ],
   "source": [
    "#For a 50-50 Split\n",
    "classifier = RandomForestClassifier(n_estimators = 100)\n",
    "classifier.fit(X_train2, y_train2)\n",
    "y_pred = classifier.predict(X_test2)\n",
    "report = classification_report(y_test2, y_pred)\n",
    "print(report)"
   ]
  },
  {
   "cell_type": "markdown",
   "metadata": {},
   "source": [
    "The code is performing hyperparameter optimization for a RandomForestClassifier model using grid search and cross-validation.\n"
   ]
  },
  {
   "cell_type": "code",
   "execution_count": 23,
   "metadata": {},
   "outputs": [
    {
     "data": {
      "text/html": [
       "<style>#sk-container-id-1 {color: black;background-color: white;}#sk-container-id-1 pre{padding: 0;}#sk-container-id-1 div.sk-toggleable {background-color: white;}#sk-container-id-1 label.sk-toggleable__label {cursor: pointer;display: block;width: 100%;margin-bottom: 0;padding: 0.3em;box-sizing: border-box;text-align: center;}#sk-container-id-1 label.sk-toggleable__label-arrow:before {content: \"▸\";float: left;margin-right: 0.25em;color: #696969;}#sk-container-id-1 label.sk-toggleable__label-arrow:hover:before {color: black;}#sk-container-id-1 div.sk-estimator:hover label.sk-toggleable__label-arrow:before {color: black;}#sk-container-id-1 div.sk-toggleable__content {max-height: 0;max-width: 0;overflow: hidden;text-align: left;background-color: #f0f8ff;}#sk-container-id-1 div.sk-toggleable__content pre {margin: 0.2em;color: black;border-radius: 0.25em;background-color: #f0f8ff;}#sk-container-id-1 input.sk-toggleable__control:checked~div.sk-toggleable__content {max-height: 200px;max-width: 100%;overflow: auto;}#sk-container-id-1 input.sk-toggleable__control:checked~label.sk-toggleable__label-arrow:before {content: \"▾\";}#sk-container-id-1 div.sk-estimator input.sk-toggleable__control:checked~label.sk-toggleable__label {background-color: #d4ebff;}#sk-container-id-1 div.sk-label input.sk-toggleable__control:checked~label.sk-toggleable__label {background-color: #d4ebff;}#sk-container-id-1 input.sk-hidden--visually {border: 0;clip: rect(1px 1px 1px 1px);clip: rect(1px, 1px, 1px, 1px);height: 1px;margin: -1px;overflow: hidden;padding: 0;position: absolute;width: 1px;}#sk-container-id-1 div.sk-estimator {font-family: monospace;background-color: #f0f8ff;border: 1px dotted black;border-radius: 0.25em;box-sizing: border-box;margin-bottom: 0.5em;}#sk-container-id-1 div.sk-estimator:hover {background-color: #d4ebff;}#sk-container-id-1 div.sk-parallel-item::after {content: \"\";width: 100%;border-bottom: 1px solid gray;flex-grow: 1;}#sk-container-id-1 div.sk-label:hover label.sk-toggleable__label {background-color: #d4ebff;}#sk-container-id-1 div.sk-serial::before {content: \"\";position: absolute;border-left: 1px solid gray;box-sizing: border-box;top: 0;bottom: 0;left: 50%;z-index: 0;}#sk-container-id-1 div.sk-serial {display: flex;flex-direction: column;align-items: center;background-color: white;padding-right: 0.2em;padding-left: 0.2em;position: relative;}#sk-container-id-1 div.sk-item {position: relative;z-index: 1;}#sk-container-id-1 div.sk-parallel {display: flex;align-items: stretch;justify-content: center;background-color: white;position: relative;}#sk-container-id-1 div.sk-item::before, #sk-container-id-1 div.sk-parallel-item::before {content: \"\";position: absolute;border-left: 1px solid gray;box-sizing: border-box;top: 0;bottom: 0;left: 50%;z-index: -1;}#sk-container-id-1 div.sk-parallel-item {display: flex;flex-direction: column;z-index: 1;position: relative;background-color: white;}#sk-container-id-1 div.sk-parallel-item:first-child::after {align-self: flex-end;width: 50%;}#sk-container-id-1 div.sk-parallel-item:last-child::after {align-self: flex-start;width: 50%;}#sk-container-id-1 div.sk-parallel-item:only-child::after {width: 0;}#sk-container-id-1 div.sk-dashed-wrapped {border: 1px dashed gray;margin: 0 0.4em 0.5em 0.4em;box-sizing: border-box;padding-bottom: 0.4em;background-color: white;}#sk-container-id-1 div.sk-label label {font-family: monospace;font-weight: bold;display: inline-block;line-height: 1.2em;}#sk-container-id-1 div.sk-label-container {text-align: center;}#sk-container-id-1 div.sk-container {/* jupyter's `normalize.less` sets `[hidden] { display: none; }` but bootstrap.min.css set `[hidden] { display: none !important; }` so we also need the `!important` here to be able to override the default hidden behavior on the sphinx rendered scikit-learn.org. See: https://github.com/scikit-learn/scikit-learn/issues/21755 */display: inline-block !important;position: relative;}#sk-container-id-1 div.sk-text-repr-fallback {display: none;}</style><div id=\"sk-container-id-1\" class=\"sk-top-container\"><div class=\"sk-text-repr-fallback\"><pre>GridSearchCV(cv=3, estimator=RandomForestClassifier(), n_jobs=-1,\n",
       "             param_grid={&#x27;class_weight&#x27;: [&#x27;balanced&#x27;],\n",
       "                         &#x27;criterion&#x27;: [&#x27;gini&#x27;, &#x27;entropy&#x27;],\n",
       "                         &#x27;max_depth&#x27;: [4, None], &#x27;max_features&#x27;: [9, &#x27;auto&#x27;],\n",
       "                         &#x27;n_estimators&#x27;: [10, 15, 20]},\n",
       "             scoring=&#x27;neg_log_loss&#x27;)</pre><b>In a Jupyter environment, please rerun this cell to show the HTML representation or trust the notebook. <br />On GitHub, the HTML representation is unable to render, please try loading this page with nbviewer.org.</b></div><div class=\"sk-container\" hidden><div class=\"sk-item sk-dashed-wrapped\"><div class=\"sk-label-container\"><div class=\"sk-label sk-toggleable\"><input class=\"sk-toggleable__control sk-hidden--visually\" id=\"sk-estimator-id-1\" type=\"checkbox\" ><label for=\"sk-estimator-id-1\" class=\"sk-toggleable__label sk-toggleable__label-arrow\">GridSearchCV</label><div class=\"sk-toggleable__content\"><pre>GridSearchCV(cv=3, estimator=RandomForestClassifier(), n_jobs=-1,\n",
       "             param_grid={&#x27;class_weight&#x27;: [&#x27;balanced&#x27;],\n",
       "                         &#x27;criterion&#x27;: [&#x27;gini&#x27;, &#x27;entropy&#x27;],\n",
       "                         &#x27;max_depth&#x27;: [4, None], &#x27;max_features&#x27;: [9, &#x27;auto&#x27;],\n",
       "                         &#x27;n_estimators&#x27;: [10, 15, 20]},\n",
       "             scoring=&#x27;neg_log_loss&#x27;)</pre></div></div></div><div class=\"sk-parallel\"><div class=\"sk-parallel-item\"><div class=\"sk-item\"><div class=\"sk-label-container\"><div class=\"sk-label sk-toggleable\"><input class=\"sk-toggleable__control sk-hidden--visually\" id=\"sk-estimator-id-2\" type=\"checkbox\" ><label for=\"sk-estimator-id-2\" class=\"sk-toggleable__label sk-toggleable__label-arrow\">estimator: RandomForestClassifier</label><div class=\"sk-toggleable__content\"><pre>RandomForestClassifier()</pre></div></div></div><div class=\"sk-serial\"><div class=\"sk-item\"><div class=\"sk-estimator sk-toggleable\"><input class=\"sk-toggleable__control sk-hidden--visually\" id=\"sk-estimator-id-3\" type=\"checkbox\" ><label for=\"sk-estimator-id-3\" class=\"sk-toggleable__label sk-toggleable__label-arrow\">RandomForestClassifier</label><div class=\"sk-toggleable__content\"><pre>RandomForestClassifier()</pre></div></div></div></div></div></div></div></div></div></div>"
      ],
      "text/plain": [
       "GridSearchCV(cv=3, estimator=RandomForestClassifier(), n_jobs=-1,\n",
       "             param_grid={'class_weight': ['balanced'],\n",
       "                         'criterion': ['gini', 'entropy'],\n",
       "                         'max_depth': [4, None], 'max_features': [9, 'auto'],\n",
       "                         'n_estimators': [10, 15, 20]},\n",
       "             scoring='neg_log_loss')"
      ]
     },
     "execution_count": 23,
     "metadata": {},
     "output_type": "execute_result"
    }
   ],
   "source": [
    "# RandomForestClassifier (ensemble learner for the multiclass classification)\n",
    "parameters = {'n_estimators':[10, 15, 20], \n",
    "              'criterion':['gini', 'entropy'],\n",
    "              'max_features':[9, 'auto'],\n",
    "              'max_depth':[4, None],\n",
    "              'class_weight':['balanced']}\n",
    "# grid search and cross-validation for hyper-parameters optimisation\n",
    "forest = GridSearchCV(estimator=RandomForestClassifier(), param_grid=parameters, \n",
    "                      cv=3, scoring='neg_log_loss', refit=True, n_jobs=-1) \n",
    "forest.fit(X_train, y_train)"
   ]
  },
  {
   "cell_type": "code",
   "execution_count": 24,
   "metadata": {},
   "outputs": [
    {
     "name": "stdout",
     "output_type": "stream",
     "text": [
      "Best parameters: {'class_weight': 'balanced', 'criterion': 'entropy', 'max_depth': 4, 'max_features': 9, 'n_estimators': 20}\n"
     ]
    }
   ],
   "source": [
    "best_parameters = forest.best_params_\n",
    "print(\"Best parameters: {}\".format(forest.best_params_))"
   ]
  },
  {
   "cell_type": "code",
   "execution_count": 25,
   "metadata": {},
   "outputs": [
    {
     "name": "stdout",
     "output_type": "stream",
     "text": [
      "Average score using 3-fold CV: 0.87177 +/- 0.0294015\n"
     ]
    }
   ],
   "source": [
    "scores = cross_val_score(RandomForestClassifier(**best_parameters), X_train, y_train, cv=5)\n",
    "print('Average score using 3-fold CV: {:g} +/- {:g}'.format(np.mean(scores), np.std(scores)))"
   ]
  },
  {
   "cell_type": "code",
   "execution_count": 26,
   "metadata": {},
   "outputs": [
    {
     "name": "stdout",
     "output_type": "stream",
     "text": [
      "Average score using 3-fold CV: 0.866788 +/- 0.0183111\n"
     ]
    }
   ],
   "source": [
    "scores = cross_val_score(RandomForestClassifier(**best_parameters), X_train2, y_train2, cv=5)\n",
    "print('Average score using 3-fold CV: {:g} +/- {:g}'.format(np.mean(scores), np.std(scores)))"
   ]
  },
  {
   "cell_type": "code",
   "execution_count": 27,
   "metadata": {},
   "outputs": [
    {
     "name": "stdout",
     "output_type": "stream",
     "text": [
      "              precision    recall  f1-score   support\n",
      "\n",
      "           0       0.87      0.91      0.89       164\n",
      "           1       0.83      0.77      0.80        98\n",
      "\n",
      "    accuracy                           0.85       262\n",
      "   macro avg       0.85      0.84      0.84       262\n",
      "weighted avg       0.85      0.85      0.85       262\n",
      "\n"
     ]
    }
   ],
   "source": [
    "y_forest = forest.predict(X_test)\n",
    "print(classification_report(y_test, y_forest))"
   ]
  },
  {
   "cell_type": "code",
   "execution_count": 28,
   "metadata": {},
   "outputs": [
    {
     "name": "stdout",
     "output_type": "stream",
     "text": [
      "              precision    recall  f1-score   support\n",
      "\n",
      "           0       0.88      0.92      0.90       406\n",
      "           1       0.85      0.79      0.82       248\n",
      "\n",
      "    accuracy                           0.87       654\n",
      "   macro avg       0.87      0.86      0.86       654\n",
      "weighted avg       0.87      0.87      0.87       654\n",
      "\n"
     ]
    }
   ],
   "source": [
    "y_forest = forest.predict(X_test2)\n",
    "print(classification_report(y_test2, y_forest))"
   ]
  },
  {
   "cell_type": "markdown",
   "metadata": {},
   "source": [
    "# Using A SVM"
   ]
  },
  {
   "cell_type": "markdown",
   "metadata": {},
   "source": [
    "The code is performing multiclass classification using Support Vector Machines (SVM) and optimizing the hyperparameters using grid search and cross-validation.\n"
   ]
  },
  {
   "cell_type": "code",
   "execution_count": 29,
   "metadata": {},
   "outputs": [
    {
     "data": {
      "text/html": [
       "<style>#sk-container-id-2 {color: black;background-color: white;}#sk-container-id-2 pre{padding: 0;}#sk-container-id-2 div.sk-toggleable {background-color: white;}#sk-container-id-2 label.sk-toggleable__label {cursor: pointer;display: block;width: 100%;margin-bottom: 0;padding: 0.3em;box-sizing: border-box;text-align: center;}#sk-container-id-2 label.sk-toggleable__label-arrow:before {content: \"▸\";float: left;margin-right: 0.25em;color: #696969;}#sk-container-id-2 label.sk-toggleable__label-arrow:hover:before {color: black;}#sk-container-id-2 div.sk-estimator:hover label.sk-toggleable__label-arrow:before {color: black;}#sk-container-id-2 div.sk-toggleable__content {max-height: 0;max-width: 0;overflow: hidden;text-align: left;background-color: #f0f8ff;}#sk-container-id-2 div.sk-toggleable__content pre {margin: 0.2em;color: black;border-radius: 0.25em;background-color: #f0f8ff;}#sk-container-id-2 input.sk-toggleable__control:checked~div.sk-toggleable__content {max-height: 200px;max-width: 100%;overflow: auto;}#sk-container-id-2 input.sk-toggleable__control:checked~label.sk-toggleable__label-arrow:before {content: \"▾\";}#sk-container-id-2 div.sk-estimator input.sk-toggleable__control:checked~label.sk-toggleable__label {background-color: #d4ebff;}#sk-container-id-2 div.sk-label input.sk-toggleable__control:checked~label.sk-toggleable__label {background-color: #d4ebff;}#sk-container-id-2 input.sk-hidden--visually {border: 0;clip: rect(1px 1px 1px 1px);clip: rect(1px, 1px, 1px, 1px);height: 1px;margin: -1px;overflow: hidden;padding: 0;position: absolute;width: 1px;}#sk-container-id-2 div.sk-estimator {font-family: monospace;background-color: #f0f8ff;border: 1px dotted black;border-radius: 0.25em;box-sizing: border-box;margin-bottom: 0.5em;}#sk-container-id-2 div.sk-estimator:hover {background-color: #d4ebff;}#sk-container-id-2 div.sk-parallel-item::after {content: \"\";width: 100%;border-bottom: 1px solid gray;flex-grow: 1;}#sk-container-id-2 div.sk-label:hover label.sk-toggleable__label {background-color: #d4ebff;}#sk-container-id-2 div.sk-serial::before {content: \"\";position: absolute;border-left: 1px solid gray;box-sizing: border-box;top: 0;bottom: 0;left: 50%;z-index: 0;}#sk-container-id-2 div.sk-serial {display: flex;flex-direction: column;align-items: center;background-color: white;padding-right: 0.2em;padding-left: 0.2em;position: relative;}#sk-container-id-2 div.sk-item {position: relative;z-index: 1;}#sk-container-id-2 div.sk-parallel {display: flex;align-items: stretch;justify-content: center;background-color: white;position: relative;}#sk-container-id-2 div.sk-item::before, #sk-container-id-2 div.sk-parallel-item::before {content: \"\";position: absolute;border-left: 1px solid gray;box-sizing: border-box;top: 0;bottom: 0;left: 50%;z-index: -1;}#sk-container-id-2 div.sk-parallel-item {display: flex;flex-direction: column;z-index: 1;position: relative;background-color: white;}#sk-container-id-2 div.sk-parallel-item:first-child::after {align-self: flex-end;width: 50%;}#sk-container-id-2 div.sk-parallel-item:last-child::after {align-self: flex-start;width: 50%;}#sk-container-id-2 div.sk-parallel-item:only-child::after {width: 0;}#sk-container-id-2 div.sk-dashed-wrapped {border: 1px dashed gray;margin: 0 0.4em 0.5em 0.4em;box-sizing: border-box;padding-bottom: 0.4em;background-color: white;}#sk-container-id-2 div.sk-label label {font-family: monospace;font-weight: bold;display: inline-block;line-height: 1.2em;}#sk-container-id-2 div.sk-label-container {text-align: center;}#sk-container-id-2 div.sk-container {/* jupyter's `normalize.less` sets `[hidden] { display: none; }` but bootstrap.min.css set `[hidden] { display: none !important; }` so we also need the `!important` here to be able to override the default hidden behavior on the sphinx rendered scikit-learn.org. See: https://github.com/scikit-learn/scikit-learn/issues/21755 */display: inline-block !important;position: relative;}#sk-container-id-2 div.sk-text-repr-fallback {display: none;}</style><div id=\"sk-container-id-2\" class=\"sk-top-container\"><div class=\"sk-text-repr-fallback\"><pre>GridSearchCV(cv=5, estimator=SVC(class_weight=&#x27;balanced&#x27;, probability=True),\n",
       "             n_jobs=1, param_grid={&#x27;C&#x27;: [0.1, 1.0, 10.0, 100]},\n",
       "             scoring=&#x27;neg_log_loss&#x27;)</pre><b>In a Jupyter environment, please rerun this cell to show the HTML representation or trust the notebook. <br />On GitHub, the HTML representation is unable to render, please try loading this page with nbviewer.org.</b></div><div class=\"sk-container\" hidden><div class=\"sk-item sk-dashed-wrapped\"><div class=\"sk-label-container\"><div class=\"sk-label sk-toggleable\"><input class=\"sk-toggleable__control sk-hidden--visually\" id=\"sk-estimator-id-4\" type=\"checkbox\" ><label for=\"sk-estimator-id-4\" class=\"sk-toggleable__label sk-toggleable__label-arrow\">GridSearchCV</label><div class=\"sk-toggleable__content\"><pre>GridSearchCV(cv=5, estimator=SVC(class_weight=&#x27;balanced&#x27;, probability=True),\n",
       "             n_jobs=1, param_grid={&#x27;C&#x27;: [0.1, 1.0, 10.0, 100]},\n",
       "             scoring=&#x27;neg_log_loss&#x27;)</pre></div></div></div><div class=\"sk-parallel\"><div class=\"sk-parallel-item\"><div class=\"sk-item\"><div class=\"sk-label-container\"><div class=\"sk-label sk-toggleable\"><input class=\"sk-toggleable__control sk-hidden--visually\" id=\"sk-estimator-id-5\" type=\"checkbox\" ><label for=\"sk-estimator-id-5\" class=\"sk-toggleable__label sk-toggleable__label-arrow\">estimator: SVC</label><div class=\"sk-toggleable__content\"><pre>SVC(class_weight=&#x27;balanced&#x27;, probability=True)</pre></div></div></div><div class=\"sk-serial\"><div class=\"sk-item\"><div class=\"sk-estimator sk-toggleable\"><input class=\"sk-toggleable__control sk-hidden--visually\" id=\"sk-estimator-id-6\" type=\"checkbox\" ><label for=\"sk-estimator-id-6\" class=\"sk-toggleable__label sk-toggleable__label-arrow\">SVC</label><div class=\"sk-toggleable__content\"><pre>SVC(class_weight=&#x27;balanced&#x27;, probability=True)</pre></div></div></div></div></div></div></div></div></div></div>"
      ],
      "text/plain": [
       "GridSearchCV(cv=5, estimator=SVC(class_weight='balanced', probability=True),\n",
       "             n_jobs=1, param_grid={'C': [0.1, 1.0, 10.0, 100]},\n",
       "             scoring='neg_log_loss')"
      ]
     },
     "execution_count": 29,
     "metadata": {},
     "output_type": "execute_result"
    }
   ],
   "source": [
    "# Support Vector Machines for multiclass classification\n",
    "# grid search and cross-validation for hyper-parameters optimisation\n",
    "parameters = {'C':[0.1, 1., 10., 100]}\n",
    "clf = GridSearchCV(estimator=SVC(probability=True, class_weight='balanced'), param_grid=parameters,  # default \"rbf\" kernel\n",
    "                   cv=5, scoring='neg_log_loss', refit=True, n_jobs=1)\n",
    "clf.fit(X_train, y_train)"
   ]
  },
  {
   "cell_type": "markdown",
   "metadata": {},
   "source": [
    "The code is performing hyperparameter tuning and cross-validation for a Support Vector Classifier (SVC) model."
   ]
  },
  {
   "cell_type": "code",
   "execution_count": 30,
   "metadata": {
    "scrolled": true
   },
   "outputs": [
    {
     "name": "stdout",
     "output_type": "stream",
     "text": [
      "Average score using 3-fold CV: 0.850715 +/- 0.00627519\n",
      "{'C': 100}\n"
     ]
    }
   ],
   "source": [
    "best_C = clf.best_params_\n",
    "scores = cross_val_score(SVC(**best_C, class_weight='balanced'), X_train, y_train, cv=3)\n",
    "print('Average score using 3-fold CV: {:g} +/- {:g}'.format(np.mean(scores), np.std(scores)))\n",
    "print(best_C)"
   ]
  },
  {
   "cell_type": "code",
   "execution_count": 31,
   "metadata": {},
   "outputs": [
    {
     "name": "stdout",
     "output_type": "stream",
     "text": [
      "              precision    recall  f1-score   support\n",
      "\n",
      "           0       0.85      0.89      0.87       164\n",
      "           1       0.80      0.73      0.77        98\n",
      "\n",
      "    accuracy                           0.83       262\n",
      "   macro avg       0.82      0.81      0.82       262\n",
      "weighted avg       0.83      0.83      0.83       262\n",
      "\n"
     ]
    }
   ],
   "source": [
    "y_svm = clf.predict(X_test)\n",
    "print(classification_report(y_test, y_svm))"
   ]
  },
  {
   "cell_type": "code",
   "execution_count": 32,
   "metadata": {},
   "outputs": [
    {
     "name": "stdout",
     "output_type": "stream",
     "text": [
      "              precision    recall  f1-score   support\n",
      "\n",
      "           0       0.87      0.90      0.88       406\n",
      "           1       0.83      0.77      0.80       248\n",
      "\n",
      "    accuracy                           0.85       654\n",
      "   macro avg       0.85      0.84      0.84       654\n",
      "weighted avg       0.85      0.85      0.85       654\n",
      "\n"
     ]
    }
   ],
   "source": [
    "y_svm = clf.predict(X_test2)\n",
    "print(classification_report(y_test2, y_svm))"
   ]
  },
  {
   "cell_type": "markdown",
   "metadata": {},
   "source": [
    "# Logisitic Regression"
   ]
  },
  {
   "cell_type": "markdown",
   "metadata": {},
   "source": [
    "The code is performing a grid search with cross-validation to find the optimal hyperparameters for a logistic regression model.\n"
   ]
  },
  {
   "cell_type": "code",
   "execution_count": 33,
   "metadata": {},
   "outputs": [
    {
     "name": "stdout",
     "output_type": "stream",
     "text": [
      "Best value: C = 10\n"
     ]
    }
   ],
   "source": [
    "# Grid-search with cross validation for optimal model hyper-parameters\n",
    "parameters = {'C':[0.01, 0.1, 1., 10., 50., 100.], \n",
    "              'multi_class':['multinomial'], \n",
    "              'solver':['newton-cg'],\n",
    "              'class_weight':['balanced']}\n",
    "lreg = GridSearchCV(estimator=LogisticRegression(), param_grid=parameters,\n",
    "                    cv=2, scoring='neg_log_loss', refit=True, n_jobs=1) # refit=True returns the best model\n",
    "lreg.fit(X_train, y_train)\n",
    "# Best value of hyper-parameter \"C\"\n",
    "best_c = lreg.best_params_['C']\n",
    "print('Best value: C = {:g}'.format(best_c))"
   ]
  },
  {
   "cell_type": "markdown",
   "metadata": {},
   "source": [
    "The code snippet is performing cross-validation to estimate the average classification accuracy of a logistic regression model.\n"
   ]
  },
  {
   "cell_type": "code",
   "execution_count": 34,
   "metadata": {},
   "outputs": [
    {
     "name": "stdout",
     "output_type": "stream",
     "text": [
      "Score using 3-fold CV: 0.849765 +/- 0.00667073\n"
     ]
    }
   ],
   "source": [
    "# Average classification accuracy with cross validation\n",
    "#lreg = LogisticRegression(C=best_c, solver='newton-cg', multi_class='multinomial')\n",
    "scores = cross_val_score(LogisticRegression(C=best_c, multi_class='multinomial', \n",
    "                                            solver='newton-cg', class_weight='balanced'), \n",
    "                         X_train, y_train, cv=3)  # it doesn't return a model\n",
    "print('Score using 3-fold CV: {:g} +/- {:g}'.format(np.mean(scores), np.std(scores)))"
   ]
  },
  {
   "cell_type": "code",
   "execution_count": 35,
   "metadata": {},
   "outputs": [],
   "source": [
    "# Multinomial Logistic Regression (with fixed hyper-parameters)\n",
    "lreg = LogisticRegression(C=10, solver='newton-cg', multi_class='multinomial', class_weight='balanced')  # fixed \"C\"\n",
    "lreg.fit(X_train, y_train)  # fit model to data\n",
    "y_lr = lreg.predict(X_test)  # predict on new data"
   ]
  },
  {
   "cell_type": "code",
   "execution_count": 36,
   "metadata": {
    "scrolled": true
   },
   "outputs": [
    {
     "name": "stdout",
     "output_type": "stream",
     "text": [
      "              precision    recall  f1-score   support\n",
      "\n",
      "           0       0.87      0.88      0.87       164\n",
      "           1       0.79      0.78      0.78        98\n",
      "\n",
      "    accuracy                           0.84       262\n",
      "   macro avg       0.83      0.83      0.83       262\n",
      "weighted avg       0.84      0.84      0.84       262\n",
      "\n"
     ]
    }
   ],
   "source": [
    "print(classification_report(y_test, y_lr))"
   ]
  },
  {
   "cell_type": "markdown",
   "metadata": {},
   "source": [
    "The code is performing multinomial logistic regression with fixed hyperparameters.\n"
   ]
  },
  {
   "cell_type": "code",
   "execution_count": 37,
   "metadata": {},
   "outputs": [],
   "source": [
    "# Multinomial Logistic Regression (with fixed hyper-parameters)\n",
    "lreg = LogisticRegression(C=10, solver='newton-cg', multi_class='multinomial', class_weight='balanced')  # fixed \"C\"\n",
    "lreg.fit(X_train2, y_train2)  # fit model to data\n",
    "y_lr = lreg.predict(X_test2)  # predict on new data"
   ]
  },
  {
   "cell_type": "code",
   "execution_count": 38,
   "metadata": {},
   "outputs": [
    {
     "name": "stdout",
     "output_type": "stream",
     "text": [
      "              precision    recall  f1-score   support\n",
      "\n",
      "           0       0.87      0.88      0.88       406\n",
      "           1       0.81      0.79      0.80       248\n",
      "\n",
      "    accuracy                           0.85       654\n",
      "   macro avg       0.84      0.84      0.84       654\n",
      "weighted avg       0.85      0.85      0.85       654\n",
      "\n"
     ]
    }
   ],
   "source": [
    "print(classification_report(y_test2, y_lr))"
   ]
  },
  {
   "cell_type": "markdown",
   "metadata": {},
   "source": [
    "# kNN (k Nearest Neighbours)"
   ]
  },
  {
   "cell_type": "markdown",
   "metadata": {},
   "source": [
    "The code is performing k-nearest neighbors classification on a dataset.\n"
   ]
  },
  {
   "cell_type": "code",
   "execution_count": 39,
   "metadata": {},
   "outputs": [
    {
     "name": "stdout",
     "output_type": "stream",
     "text": [
      "              precision    recall  f1-score   support\n",
      "\n",
      "           0       0.84      0.94      0.89       164\n",
      "           1       0.87      0.69      0.77        98\n",
      "\n",
      "    accuracy                           0.85       262\n",
      "   macro avg       0.85      0.82      0.83       262\n",
      "weighted avg       0.85      0.85      0.84       262\n",
      "\n"
     ]
    }
   ],
   "source": [
    "knn_classifier = KNeighborsClassifier(n_neighbors=4)\n",
    "knn_classifier.fit(X_train, y_train)\n",
    "y_pred = knn_classifier.predict(X_test)\n",
    "report_knn = classification_report(y_test, y_pred)\n",
    "print(report_knn)"
   ]
  },
  {
   "cell_type": "markdown",
   "metadata": {},
   "source": [
    "The code is performing k-nearest neighbors classification.\n"
   ]
  },
  {
   "cell_type": "code",
   "execution_count": 40,
   "metadata": {},
   "outputs": [
    {
     "name": "stdout",
     "output_type": "stream",
     "text": [
      "              precision    recall  f1-score   support\n",
      "\n",
      "           0       0.81      0.93      0.86       406\n",
      "           1       0.84      0.65      0.73       248\n",
      "\n",
      "    accuracy                           0.82       654\n",
      "   macro avg       0.83      0.79      0.80       654\n",
      "weighted avg       0.82      0.82      0.81       654\n",
      "\n"
     ]
    }
   ],
   "source": [
    "knn_classifier = KNeighborsClassifier(n_neighbors=4)\n",
    "knn_classifier.fit(X_train2, y_train2)\n",
    "y_pred = knn_classifier.predict(X_test2)\n",
    "report_knn = classification_report(y_test2, y_pred)\n",
    "print(report_knn)"
   ]
  },
  {
   "cell_type": "markdown",
   "metadata": {},
   "source": [
    "The code is performing a grid search to find the optimal number of neighbors (k) for a K-Nearest Neighbors (KNN) classifier for the `20/80` data split.\n"
   ]
  },
  {
   "cell_type": "code",
   "execution_count": 41,
   "metadata": {},
   "outputs": [
    {
     "name": "stdout",
     "output_type": "stream",
     "text": [
      "Optimal number of neighbors (k): 7\n",
      "              precision    recall  f1-score   support\n",
      "\n",
      "           0       0.85      0.91      0.88       164\n",
      "           1       0.83      0.72      0.77        98\n",
      "\n",
      "    accuracy                           0.84       262\n",
      "   macro avg       0.84      0.82      0.82       262\n",
      "weighted avg       0.84      0.84      0.84       262\n",
      "\n"
     ]
    }
   ],
   "source": [
    "# Define the range of values for k\n",
    "param_grid = {'n_neighbors': range(1, 21)}  # You can adjust the range as needed\n",
    "\n",
    "# Create a KNN classifier\n",
    "knn_classifier = KNeighborsClassifier()\n",
    "\n",
    "# Create a GridSearchCV object to search for the best k\n",
    "grid_search = GridSearchCV(knn_classifier, param_grid, cv=50, scoring='accuracy')\n",
    "\n",
    "# Fit the grid search to your data\n",
    "grid_search.fit(X_train, y_train)\n",
    "\n",
    "# Get the best parameter (k)\n",
    "best_k = grid_search.best_params_['n_neighbors']\n",
    "\n",
    "# Print the best k\n",
    "print(\"Optimal number of neighbors (k):\", best_k)\n",
    "\n",
    "# Train the KNN classifier with the best k\n",
    "best_knn_classifier = KNeighborsClassifier(n_neighbors=best_k)\n",
    "best_knn_classifier.fit(X_train, y_train)\n",
    "\n",
    "# Make predictions\n",
    "y_pred = best_knn_classifier.predict(X_test)\n",
    "\n",
    "# Evaluate the classifier\n",
    "from sklearn.metrics import classification_report\n",
    "report_knn = classification_report(y_test, y_pred)\n",
    "print(report_knn)"
   ]
  },
  {
   "cell_type": "markdown",
   "metadata": {},
   "source": [
    "The code is performing a grid search to find the optimal number of neighbors (k) for a K-Nearest Neighbors (KNN) classifier for the `50/50` data split."
   ]
  },
  {
   "cell_type": "code",
   "execution_count": 42,
   "metadata": {},
   "outputs": [
    {
     "name": "stdout",
     "output_type": "stream",
     "text": [
      "Optimal number of neighbors (k): 8\n",
      "              precision    recall  f1-score   support\n",
      "\n",
      "           0       0.82      0.91      0.86       406\n",
      "           1       0.82      0.68      0.74       248\n",
      "\n",
      "    accuracy                           0.82       654\n",
      "   macro avg       0.82      0.80      0.80       654\n",
      "weighted avg       0.82      0.82      0.82       654\n",
      "\n"
     ]
    }
   ],
   "source": [
    "# Define the range of values for k\n",
    "param_grid = {'n_neighbors': range(1, 21)}  # You can adjust the range as needed\n",
    "\n",
    "# Create a KNN classifier\n",
    "knn_classifier = KNeighborsClassifier()\n",
    "\n",
    "# Create a GridSearchCV object to search for the best k\n",
    "grid_search = GridSearchCV(knn_classifier, param_grid, cv=50, scoring='accuracy')\n",
    "\n",
    "# Fit the grid search to your data\n",
    "grid_search.fit(X_train2, y_train2)\n",
    "\n",
    "# Get the best parameter (k)\n",
    "best_k = grid_search.best_params_['n_neighbors']\n",
    "\n",
    "# Print the best k\n",
    "print(\"Optimal number of neighbors (k):\", best_k)\n",
    "\n",
    "# Train the KNN classifier with the best k\n",
    "best_knn_classifier = KNeighborsClassifier(n_neighbors=best_k)\n",
    "best_knn_classifier.fit(X_train2, y_train2)\n",
    "\n",
    "# Make predictions\n",
    "y_pred = best_knn_classifier.predict(X_test2)\n",
    "\n",
    "# Evaluate the classifier\n",
    "from sklearn.metrics import classification_report\n",
    "report_knn = classification_report(y_test2, y_pred)\n",
    "print(report_knn)"
   ]
  },
  {
   "cell_type": "code",
   "execution_count": null,
   "metadata": {},
   "outputs": [],
   "source": []
  }
 ],
 "metadata": {
  "colab": {
   "provenance": []
  },
  "kernelspec": {
   "display_name": "Python 3 (ipykernel)",
   "language": "python",
   "name": "python3"
  },
  "language_info": {
   "codemirror_mode": {
    "name": "ipython",
    "version": 3
   },
   "file_extension": ".py",
   "mimetype": "text/x-python",
   "name": "python",
   "nbconvert_exporter": "python",
   "pygments_lexer": "ipython3",
   "version": "3.9.9"
  }
 },
 "nbformat": 4,
 "nbformat_minor": 1
}
